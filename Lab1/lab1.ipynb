{
 "cells": [
  {
   "cell_type": "markdown",
   "metadata": {},
   "source": [
    "# Computational Finance Lab 1 "
   ]
  },
  {
   "cell_type": "code",
   "execution_count": 6,
   "metadata": {},
   "outputs": [],
   "source": [
    "\n",
    "import numpy as np\n",
    "from math import comb\n",
    "import matplotlib.pyplot as plt\n",
    "import seaborn as sns\n"
   ]
  },
  {
   "cell_type": "code",
   "execution_count": 7,
   "metadata": {},
   "outputs": [],
   "source": [
    "\n",
    "# constants\n",
    "S0 = 50\n",
    "K = 50\n",
    "T = 1\n",
    "r = 0.08\n",
    "sigma = 0.3"
   ]
  },
  {
   "cell_type": "markdown",
   "metadata": {},
   "source": [
    "\n",
    "The written functions value options for both cases depending on the parameters passed\n"
   ]
  },
  {
   "cell_type": "code",
   "execution_count": 8,
   "metadata": {},
   "outputs": [],
   "source": [
    "\n",
    "def european_call(M, table = False, alter = False):\n",
    "    '''\n",
    "        Values an european call option\n",
    "        \n",
    "        :table: \n",
    "        Decides whether the function returns the inital value\n",
    "        or the entire valuation table\n",
    "\n",
    "        :alter:\n",
    "        Determines if the used values correspond to case 2 or not\n",
    "    '''\n",
    "    \n",
    "    delta = T/M\n",
    "    if not alter:\n",
    "        u = np.exp(sigma*np.sqrt(delta))\n",
    "        d = np.exp(-sigma*np.sqrt(delta))\n",
    "    else:\n",
    "        beta = 0.5*(np.exp(-r*delta) + np.exp((r + sigma*sigma)*delta))\n",
    "        u = beta + np.sqrt(beta**2 - 1)\n",
    "        d = beta - np.sqrt(beta**2 - 1)\n",
    "    q = (np.exp(r*delta) - d)/(u-d)\n",
    "    \n",
    "    if not table:\n",
    "        V = 0\n",
    "        for i in range(M+1):\n",
    "            Si = S0*(u**i)*(d**(M-i))\n",
    "            V+= comb(M,i)*max(Si - K, 0)*(q**i)*((1-q)**(M-i))*np.exp(-r*delta*M)\n",
    "        return V     \n",
    "    else :\n",
    "        V = []\n",
    "        for i in reversed(range(M+1)):\n",
    "            V.append([])\n",
    "            for j in range(i+1):\n",
    "                Si = S0*(u**j)*(d**(i-j))\n",
    "                if i != M:\n",
    "                    V_new = np.exp(-r*delta)*(V[-2][j]*(1-q) + V[-2][j+1]*q)\n",
    "                else :\n",
    "                    V_new = max(Si - K,0)\n",
    "                V[-1].append(V_new)\n",
    "        return V\n",
    "    \n",
    "    "
   ]
  },
  {
   "cell_type": "code",
   "execution_count": 9,
   "metadata": {},
   "outputs": [],
   "source": [
    "def european_put(M, table = False, alter = False):\n",
    "    '''\n",
    "        Values an european put option\n",
    "        \n",
    "        :table: \n",
    "        Decides whether the function returns the inital value\n",
    "        or the entire valuation table\n",
    "\n",
    "        :alter:\n",
    "        Determines if the used values correspond to case 2 or not\n",
    "    '''\n",
    "    \n",
    "    delta = T/M\n",
    "    if not alter:\n",
    "        u = np.exp(sigma*np.sqrt(delta))\n",
    "        d = np.exp(-sigma*np.sqrt(delta))\n",
    "    else:\n",
    "        beta = 0.5*(np.exp(-r*delta) + np.exp((r + sigma*sigma)*delta))\n",
    "        u = beta + np.sqrt(beta**2 - 1)\n",
    "        d = beta - np.sqrt(beta**2 - 1)\n",
    "    q = (np.exp(r*delta) - d)/(u-d)\n",
    "\n",
    "    \n",
    "    if not table:\n",
    "        V = 0\n",
    "        for i in range(M+1):\n",
    "            Si = S0*(u**i)*(d**(M-i))\n",
    "            V+= comb(M,i)*max(K - Si, 0)*(q**i)*((1-q)**(M-i))*np.exp(-r*delta*M)\n",
    "        return V     \n",
    "    else :\n",
    "        V = []\n",
    "        for i in reversed(range(M+1)):\n",
    "            V.append([])\n",
    "            for j in range(i+1):\n",
    "                Si = S0*(u**j)*(d**(i-j))\n",
    "                if i != M:\n",
    "                    V_new = np.exp(-r*delta)*(V[-2][j]*(1-q) + V[-2][j+1]*q)\n",
    "                else :\n",
    "                    V_new = max(K-Si,0)\n",
    "                V[-1].append(V_new)\n",
    "        return V\n",
    "    \n",
    "    "
   ]
  },
  {
   "cell_type": "code",
   "execution_count": 10,
   "metadata": {},
   "outputs": [],
   "source": [
    "def american_put(M, table = False, alter = False):\n",
    "    '''\n",
    "        Values an american put option\n",
    "        \n",
    "        :table: \n",
    "        Decides whether the function returns the inital value\n",
    "        or the entire valuation table\n",
    "\n",
    "        :alter:\n",
    "        Determines if the used values correspond to case 2 or not\n",
    "    '''\n",
    "    \n",
    "    delta = T/M\n",
    "    if not alter:\n",
    "        u = np.exp(sigma*np.sqrt(delta))\n",
    "        d = np.exp(-sigma*np.sqrt(delta))\n",
    "    else:\n",
    "        beta = 0.5*(np.exp(-r*delta) + np.exp((r + sigma*sigma)*delta))\n",
    "        u = beta + np.sqrt(beta**2 - 1)\n",
    "        d = beta - np.sqrt(beta**2 - 1)\n",
    "    q = (np.exp(r*delta) - d)/(u-d)\n",
    "\n",
    "\n",
    "    V = []\n",
    "    for i in reversed(range(M+1)):\n",
    "        V.append([])\n",
    "        for j in range(i+1):\n",
    "            Si = S0*(u**j)*(d**(i-j))\n",
    "            if i != M:\n",
    "                V_new = max(max(K-Si,0), np.exp(-r*delta)*(V[-2][j]*(1-q) + V[-2][j+1]*q))\n",
    "            else :\n",
    "                V_new = max(K-Si,0)\n",
    "            V[-1].append(V_new)\n",
    "\n",
    "    if table:\n",
    "        return V\n",
    "    else:\n",
    "        return V[-1][0]\n",
    "    "
   ]
  },
  {
   "cell_type": "code",
   "execution_count": 11,
   "metadata": {},
   "outputs": [],
   "source": [
    "\n",
    "def american_call(M, table = False, alter = False):\n",
    "    '''\n",
    "        Values a american call option\n",
    "        \n",
    "        :table: \n",
    "        Decides whether the function returns the inital value\n",
    "        or the entire valuation table\n",
    "\n",
    "        :alter:\n",
    "        Determines if the used values correspond to case 2 or not\n",
    "    '''\n",
    "    \n",
    "    delta = T/M\n",
    "    if not alter:\n",
    "        u = np.exp(sigma*np.sqrt(delta))\n",
    "        d = np.exp(-sigma*np.sqrt(delta))\n",
    "    else:\n",
    "        beta = 0.5*(np.exp(-r*delta) + np.exp((r + sigma*sigma)*delta))\n",
    "        u = beta + np.sqrt(beta**2 - 1)\n",
    "        d = beta - np.sqrt(beta**2 - 1)\n",
    "    q = (np.exp(r*delta) - d)/(u-d)\n",
    "    V = []\n",
    "    for i in reversed(range(M+1)):\n",
    "        V.append([])\n",
    "        for j in range(i+1):\n",
    "            Si = S0*(u**j)*(d**(i-j))\n",
    "            if i != M:\n",
    "                V_new = max(max(Si-K,0), np.exp(-r*delta)*(V[-2][j]*(1-q) + V[-2][j+1]*q))\n",
    "            else :\n",
    "                V_new = max(Si-K,0)\n",
    "            V[-1].append(V_new)\n",
    "    \n",
    "    if table:\n",
    "        return V\n",
    "    else:\n",
    "        return V[-1][0]\n"
   ]
  },
  {
   "cell_type": "markdown",
   "metadata": {},
   "source": [
    "The valuation values obtained for case 1 of u and d are as follows - "
   ]
  },
  {
   "cell_type": "code",
   "execution_count": 12,
   "metadata": {},
   "outputs": [
    {
     "name": "stdout",
     "output_type": "stream",
     "text": [
      "For M = 5\n",
      "The value of the european call is 8.111627932361564\n",
      "The value of the european put is 4.267445251693331\n",
      "The value of the american call is 8.111627932361564\n",
      "The value of the american put is 4.642821439425159\n",
      "\n",
      "For M = 10\n",
      "The value of the european call is 7.70977714182394\n",
      "The value of the european put is 3.865594461155707\n",
      "The value of the american call is 7.709777141823944\n",
      "The value of the american put is 4.3871710867737574\n",
      "\n",
      "For M = 20\n",
      "The value of the european call is 7.78217241124076\n",
      "The value of the european put is 3.9379897305725104\n",
      "The value of the american call is 7.782172411240762\n",
      "The value of the american put is 4.422357441877595\n",
      "\n"
     ]
    }
   ],
   "source": [
    "\n",
    "for M in [5,10,20]:\n",
    "    print(f\"For M = {M}\")\n",
    "    print(f\"The value of the european call is {european_call(M)}\")\n",
    "    print(f\"The value of the european put is {european_put(M)}\")\n",
    "    print(f\"The value of the american call is {american_call(M)}\")\n",
    "    print(f\"The value of the american put is {american_put(M)}\\n\")\n"
   ]
  },
  {
   "cell_type": "markdown",
   "metadata": {},
   "source": [
    "Note that the american call and european call options have the same calculated value as would be expected theoretically, whereas the american put is more expensive than the european put option."
   ]
  },
  {
   "cell_type": "markdown",
   "metadata": {},
   "source": [
    "Similary for case 2 of u and d we have"
   ]
  },
  {
   "cell_type": "code",
   "execution_count": 13,
   "metadata": {},
   "outputs": [
    {
     "name": "stdout",
     "output_type": "stream",
     "text": [
      "For M = 5\n",
      "The value of the european call is 8.220521272380624\n",
      "The value of the european put is 4.376338591712393\n",
      "The value of the american call is 8.220521272380624\n",
      "The value of the american put is 4.752317201462388\n",
      "\n",
      "For M = 10\n",
      "The value of the european call is 7.760154720554708\n",
      "The value of the european put is 3.915972039886477\n",
      "The value of the american call is 7.76015472055471\n",
      "The value of the american put is 4.438304598531006\n",
      "\n",
      "For M = 20\n",
      "The value of the european call is 7.807699418914492\n",
      "The value of the european put is 3.963516738246241\n",
      "The value of the american call is 7.807699418914495\n",
      "The value of the american put is 4.4481374334685055\n",
      "\n"
     ]
    }
   ],
   "source": [
    "\n",
    "for M in [5,10,20]:\n",
    "    print(f\"For M = {M}\")\n",
    "    print(f\"The value of the european call is {european_call(M, alter = True)}\")\n",
    "    print(f\"The value of the european put is {european_put(M, alter = True)}\")\n",
    "    print(f\"The value of the american call is {american_call(M, alter = True)}\")\n",
    "    print(f\"The value of the american put is {american_put(M, alter = True)}\\n\")\n"
   ]
  },
  {
   "cell_type": "markdown",
   "metadata": {},
   "source": [
    "## Q2\n",
    "\n",
    "For case 1 we have the following tabulated values - "
   ]
  },
  {
   "cell_type": "code",
   "execution_count": 14,
   "metadata": {},
   "outputs": [
    {
     "name": "stdout",
     "output_type": "stream",
     "text": [
      "For M = 20 the tabulated values are\n",
      "\n",
      "For pricing the european call the table is as follows - \n",
      "\n",
      "For t = 0 we have [7.782172411240762]\n",
      "For t = 0.25 we have [0.7125955936663955, 2.0056887483573114, 4.595766424463896, 8.913679682543524, 15.138339366996487, 23.206509912934017]\n",
      "For t = 0.5 we have [0.0, 0.008721805886560808, 0.10146460530882682, 0.5609820132367715, 1.9809496810604104, 5.090270230264619, 10.337660348837023, 17.676252191951107, 26.793970067526185, 37.47897880644748, 49.75258912075157]\n",
      "For t = 0.75 we have [0.0, 0.0, 0.0, 0.0, 0.0, 0.0, 0.25022796994767915, 1.7236979261335847, 5.662218239978686, 12.304762343885434, 20.915762998466633, 30.955725389737918, 42.437230012655206, 55.567254137116, 70.58249292078672, 87.7536263165457]\n",
      "For t = 0.95 we have [0.0, 0.0, 0.0, 0.0, 0.0, 0.0, 0.0, 0.0, 0.0, 0.0, 3.6687608354187753, 11.345886472252392, 20.1252971966048, 30.165259587876097, 41.646764210793386, 54.77678833525416, 69.79202711892486, 86.96316051468385, 106.5997328225182, 129.05573284963594]\n",
      "\n",
      "For pricing the european put the table is as follows - \n",
      "\n",
      "For t = 0 we have [3.9379897305725096]\n",
      "For t = 0.25 we have [12.048586410006477, 8.208357758939787, 4.928069018637396, 2.5327460591375726, 1.0802801067569063, 0.3690399283420198]\n",
      "For t = 0.5 we have [22.475024573727058, 18.813191740424188, 14.708360045427693, 10.367613360274087, 6.2980928977581305, 3.129742187880769, 1.198110237111189, 0.32691285344131205, 0.05607634135786624, 0.0045179096562787445, 1.534088559883654e-17]\n",
      "For t = 0.75 we have [30.730210613881912, 28.1055999097247, 25.10414644219597, 21.671742960997395, 17.746513472950614, 13.257697802465431, 8.374603966655508, 3.977707506432446, 1.2029916026980987, 0.1684100697712231, 5.718484455442728e-16, 0.0, 0.0, 0.0, 0.0, 0.0]\n",
      "For t = 0.95 we have [35.822684710562875, 33.815758256225635, 31.520676415743726, 28.896065711586512, 25.89461224405778, 22.462208762859213, 18.53697927481243, 14.048163604327248, 8.914841798569645, 3.044475382160681, 1.0337734062763889e-14, 0.0, 0.0, 0.0, 0.0, 0.0, 0.0, 0.0, 0.0, 0.0]\n",
      "\n",
      "For pricing the american call the table is as follows - \n",
      "\n",
      "For t = 0 we have [7.782172411240762]\n",
      "For t = 0.25 we have [0.7125955936663955, 2.0056887483573114, 4.595766424463896, 8.913679682543524, 15.138339366996487, 23.206509912934017]\n",
      "For t = 0.5 we have [0, 0.008721805886560808, 0.10146460530882682, 0.5609820132367715, 1.9809496810604104, 5.090270230264619, 10.337660348837023, 17.676252191951107, 26.793970067526185, 37.47897880644748, 49.75258912075157]\n",
      "For t = 0.75 we have [0, 0, 0, 0, 0, 0, 0.25022796994767915, 1.7236979261335847, 5.662218239978686, 12.304762343885434, 20.915762998466633, 30.955725389737918, 42.437230012655206, 55.567254137116, 70.58249292078672, 87.7536263165457]\n",
      "For t = 0.95 we have [0, 0, 0, 0, 0, 0, 0, 0, 0, 0, 3.6687608354187753, 11.345886472252392, 20.1252971966048, 30.165259587876097, 41.646764210793386, 54.77678833525416, 69.79202711892486, 86.96316051468385, 106.5997328225182, 129.05573284963594]\n",
      "\n",
      "For pricing the american put the table is as follows - \n",
      "\n",
      "For t = 0 we have [4.422357441877595]\n",
      "For t = 0.25 we have [14.247764137127668, 9.401636424816495, 5.483791668609761, 2.7656135633398544, 1.1662248760802572, 0.3957656729363448]\n",
      "For t = 0.5 we have [24.43555261611091, 20.76499797692148, 16.56742348250272, 11.767159389421167, 6.925561421711066, 3.3846545999296334, 1.2839203415807823, 0.3488775748752356, 0.059792420604341076, 0.0048141108276928525, 1.534088559883654e-17]\n",
      "For t = 0.75 we have [31.720276948544154, 29.09566624438694, 26.094212776858207, 22.661809295659637, 18.736579807612856, 14.247764137127682, 9.114442331370071, 4.250533109520778, 1.2833387491914672, 0.17945129541300717, 5.718484455442728e-16, 0, 0, 0, 0, 0]\n",
      "For t = 0.95 we have [36.0222852433633, 34.01535878902606, 31.720276948544157, 29.095666244386937, 26.094212776858207, 22.661809295659644, 18.73657980761286, 14.247764137127682, 9.114442331370071, 3.2440759149611083, 1.0337734062763889e-14, 0, 0, 0, 0, 0, 0, 0, 0, 0]\n"
     ]
    }
   ],
   "source": [
    "\n",
    "print(f\"For M = {20} the tabulated values are\")\n",
    "t_list = [0, 0.25, 0.5, 0.75, 0.95]\n",
    "\n",
    "european_call_table = european_call(20, True)\n",
    "european_put_table = european_put(20, True)\n",
    "american_call_table = american_call(20, True)\n",
    "american_put_table = american_put(20, True)\n",
    "\n",
    "table_list = [european_call_table,european_put_table, american_call_table, american_put_table]\n",
    "table_names = [\"european call\", \"european put\", \"american call\", \"american put\"]\n",
    "for i in range(4):\n",
    "    table = table_list[i]\n",
    "    print(f\"\\nFor pricing the {table_names[i]} the table is as follows - \\n\")\n",
    "    for t in t_list:\n",
    "        t_index = int(t*20)\n",
    "        print(f\"For t = {t} we have {table[-t_index-1]}\")\n",
    "\n"
   ]
  },
  {
   "cell_type": "markdown",
   "metadata": {},
   "source": [
    "Similarly for case 2 we get -"
   ]
  },
  {
   "cell_type": "code",
   "execution_count": 15,
   "metadata": {},
   "outputs": [
    {
     "name": "stdout",
     "output_type": "stream",
     "text": [
      "For M = 20 the tabulated values are\n",
      "\n",
      "For pricing the european call the table is as follows - \n",
      "\n",
      "For t = 0 we have [7.807699418914495]\n",
      "For t = 0.25 we have [0.7138300202932913, 2.0105996612820944, 4.610137469449958, 8.947211608658538, 15.204186602222496, 23.320038268510306]\n",
      "For t = 0.5 we have [0.0, 0.008728366320539216, 0.10161990663268472, 0.5622613794798234, 1.9868784479721193, 5.108887116466513, 10.381755988737607, 17.76136619612134, 26.936343286568786, 37.695479112868846, 50.06211119327087]\n",
      "For t = 0.75 we have [0.0, 0.0, 0.0, 0.0, 0.0, 0.0, 0.25095151509232666, 1.7299081929187516, 5.686255648434517, 12.3638804314572, 21.026336634731404, 31.132811146421357, 42.69768466505184, 55.93140917969032, 71.0748056247284, 88.40344622306687]\n",
      "For t = 0.95 we have [0.0, 0.0, 0.0, 0.0, 0.0, 0.0, 0.0, 0.0, 0.0, 0.0, 3.6856603263620884, 11.40388258060771, 20.23587083286958, 30.34234534455953, 41.90721886319, 55.140943377828485, 70.28433982286656, 87.61298042120504, 107.44220341462247, 130.1328514369708]\n",
      "\n",
      "For pricing the european put the table is as follows - \n",
      "\n",
      "For t = 0 we have [3.9635167382462417]\n",
      "For t = 0.25 we have [12.106266656877876, 8.252011111990981, 4.957213096422491, 2.549378494309274, 1.0881312336275963, 0.37199464765352996]\n",
      "For t = 0.5 we have [22.55568342226879, 18.887013517803187, 14.771845578018684, 10.417190125127664, 6.331646371822167, 3.148359074082657, 1.206056101544664, 0.329320369116796, 0.05653242443398901, 0.004558250046924127, 5.136684266630168e-18]\n",
      "For t = 0.75 we have [30.816654364368052, 28.19130163282596, 25.187101479057567, 21.749384917976357, 17.8155940420562, 13.314143622709928, 8.414069951926562, 3.998690806016636, 1.2101295202106093, 0.1695320489876655, 1.910453792047131e-16, 0.0, 0.0, 0.0, 0.0, 0.0]\n",
      "For t = 0.95 we have [35.90635827449384, 33.90140037800928, 31.607120166229862, 28.981767434687768, 25.977567280919377, 22.539850719838164, 18.60605984391802, 14.104609424571747, 8.953584238696049, 3.0592484149597006, 3.4474618634493056e-15, 0.0, 0.0, 0.0, 0.0, 0.0, 0.0, 0.0, 0.0, 0.0]\n",
      "\n",
      "For pricing the american call the table is as follows - \n",
      "\n",
      "For t = 0 we have [7.807699418914495]\n",
      "For t = 0.25 we have [0.7138300202932913, 2.0105996612820944, 4.610137469449958, 8.947211608658538, 15.204186602222496, 23.320038268510306]\n",
      "For t = 0.5 we have [0, 0.008728366320539216, 0.10161990663268472, 0.5622613794798234, 1.9868784479721193, 5.108887116466513, 10.381755988737607, 17.76136619612134, 26.936343286568786, 37.695479112868846, 50.06211119327087]\n",
      "For t = 0.75 we have [0, 0, 0, 0, 0, 0, 0.25095151509232666, 1.7299081929187516, 5.686255648434517, 12.3638804314572, 21.026336634731404, 31.132811146421357, 42.69768466505184, 55.93140917969032, 71.0748056247284, 88.40344622306687]\n",
      "For t = 0.95 we have [0, 0, 0, 0, 0, 0, 0, 0, 0, 0, 3.6856603263620884, 11.40388258060771, 20.23587083286958, 30.34234534455953, 41.90721886319, 55.140943377828485, 70.28433982286656, 87.61298042120504, 107.44220341462247, 130.1328514369708]\n",
      "\n",
      "For pricing the american put the table is as follows - \n",
      "\n",
      "For t = 0 we have [4.4481374334685055]\n",
      "For t = 0.25 we have [14.304209957372173, 9.44424604395062, 5.513039458502152, 2.7824852699560965, 1.1742404624663314, 0.3987991360922733]\n",
      "For t = 0.5 we have [24.51621146465264, 20.838813193866503, 16.63075371376985, 11.815456788031696, 6.958887528852824, 3.4033413788459184, 1.2920135850457406, 0.35134262640504804, 0.06026083128430411, 0.004855652877486877, 5.136684266630168e-18]\n",
      "For t = 0.75 we have [31.80672069903029, 29.181367967488196, 26.177167813719805, 22.739451252638595, 18.80566037671844, 14.304209957372173, 9.153184771496484, 4.271689619722147, 1.2905702492722462, 0.1805931603178913, 1.910453792047131e-16, 0, 0, 0, 0, 0]\n",
      "For t = 0.95 we have [36.10595880729427, 34.10100091080971, 31.806720699030286, 29.181367967488196, 26.1771678137198, 22.73945125263859, 18.805660376718446, 14.30420995737218, 9.153184771496477, 3.2588489477601286, 3.4474618634493056e-15, 0, 0, 0, 0, 0, 0, 0, 0, 0]\n"
     ]
    }
   ],
   "source": [
    "\n",
    "print(f\"For M = {20} the tabulated values are\")\n",
    "t_list = [0, 0.25, 0.5, 0.75, 0.95]\n",
    "\n",
    "european_call_table = european_call(20, True, True)\n",
    "european_put_table = european_put(20, True, True)\n",
    "american_call_table = american_call(20, True, True)\n",
    "american_put_table = american_put(20, True, True)\n",
    "\n",
    "table_list = [european_call_table,european_put_table, american_call_table, american_put_table]\n",
    "table_names = [\"european call\", \"european put\", \"american call\", \"american put\"]\n",
    "for i in range(4):\n",
    "    table = table_list[i]\n",
    "    print(f\"\\nFor pricing the {table_names[i]} the table is as follows - \\n\")\n",
    "    for t in t_list:\n",
    "        t_index = int(t*20)\n",
    "        print(f\"For t = {t} we have {table[-t_index-1]}\")\n",
    "\n"
   ]
  },
  {
   "cell_type": "markdown",
   "metadata": {},
   "source": [
    "## Q3"
   ]
  },
  {
   "cell_type": "code",
   "execution_count": 16,
   "metadata": {},
   "outputs": [
    {
     "data": {
      "image/png": "[encoded data removed]",
      "text/plain": [
       "<Figure size 432x288 with 1 Axes>"
      ]
     },
     "metadata": {
      "needs_background": "light"
     },
     "output_type": "display_data"
    }
   ],
   "source": [
    "\n",
    "option_value_list = []\n",
    "option_value_list_2 = []\n",
    "for T_var in np.arange(1,10,0.5):\n",
    "    T = T_var\n",
    "    option_value_list.append(european_call(20))\n",
    "    option_value_list_2.append(european_call(20, alter = True))\n",
    "    \n",
    "    \n",
    "plt.plot(np.arange(1,10,0.5), option_value_list, label = \"Case 1\")\n",
    "plt.plot(np.arange(1,10,0.5), option_value_list_2, label = \"Case 2\")\n",
    "plt.ylabel(\"Price\")\n",
    "plt.xlabel(\"T\")\n",
    "plt.legend()\n",
    "plt.title(\"European call vs T\")\n",
    "plt.show()\n"
   ]
  },
  {
   "cell_type": "code",
   "execution_count": 17,
   "metadata": {},
   "outputs": [
    {
     "data": {
      "image/png": "[encoded data removed]",
      "text/plain": [
       "<Figure size 432x288 with 1 Axes>"
      ]
     },
     "metadata": {
      "needs_background": "light"
     },
     "output_type": "display_data"
    }
   ],
   "source": [
    "\n",
    "option_value_list = []\n",
    "option_value_list_2 = []\n",
    "for T_var in np.arange(1,10,0.1):\n",
    "    T = T_var\n",
    "    option_value_list.append(european_put(20))\n",
    "    option_value_list_2.append(european_put(20, alter = True))\n",
    "    \n",
    "    \n",
    "plt.plot(np.arange(1,10,0.1), option_value_list, label = \"Case 1\")\n",
    "plt.plot(np.arange(1,10,0.1), option_value_list_2, label = \"Case 2\")\n",
    "plt.ylabel(\"Price\")\n",
    "plt.xlabel(\"T\")\n",
    "plt.legend()\n",
    "plt.title(\"European put vs T\")\n",
    "plt.show()\n"
   ]
  },
  {
   "cell_type": "code",
   "execution_count": 18,
   "metadata": {},
   "outputs": [
    {
     "data": {
      "image/png": "[encoded data removed]",
      "text/plain": [
       "<Figure size 432x288 with 1 Axes>"
      ]
     },
     "metadata": {
      "needs_background": "light"
     },
     "output_type": "display_data"
    }
   ],
   "source": [
    "\n",
    "option_value_list = []\n",
    "option_value_list_2 = []\n",
    "for T_var in np.arange(1,10,0.1):\n",
    "    T = T_var\n",
    "    option_value_list.append(american_put(20))\n",
    "    option_value_list_2.append(american_put(20, alter = True))\n",
    "    \n",
    "    \n",
    "plt.plot(np.arange(1,10,0.1), option_value_list, label = \"Case 1\")\n",
    "plt.plot(np.arange(1,10,0.1), option_value_list_2, label = \"Case 2\")\n",
    "plt.ylabel(\"Price\")\n",
    "plt.xlabel(\"T\")\n",
    "plt.legend()\n",
    "plt.title(\"American Put vs T\")\n",
    "plt.show()"
   ]
  },
  {
   "cell_type": "code",
   "execution_count": 19,
   "metadata": {},
   "outputs": [
    {
     "data": {
      "image/png": "[encoded data removed]",
      "text/plain": [
       "<Figure size 432x288 with 1 Axes>"
      ]
     },
     "metadata": {
      "needs_background": "light"
     },
     "output_type": "display_data"
    }
   ],
   "source": [
    "\n",
    "option_value_list = []\n",
    "option_value_list_2 = []\n",
    "for S0_var in np.arange(20,100,0.1):\n",
    "    S0 = S0_var\n",
    "    option_value_list.append(european_call(20))\n",
    "    option_value_list_2.append(european_call(20, alter = True))\n",
    "    \n",
    "    \n",
    "plt.plot(np.arange(20,100,0.1), option_value_list, label = \"Case 1\")\n",
    "plt.plot(np.arange(20,100,0.1), option_value_list_2, label = \"Case 2\")\n",
    "plt.ylabel(\"Price\")\n",
    "plt.xlabel(\"S0\")\n",
    "plt.legend()\n",
    "plt.title(\"European call vs S0\")\n",
    "plt.show()\n",
    "\n"
   ]
  },
  {
   "cell_type": "code",
   "execution_count": 20,
   "metadata": {},
   "outputs": [
    {
     "data": {
      "image/png": "[encoded data removed]",
      "text/plain": [
       "<Figure size 432x288 with 1 Axes>"
      ]
     },
     "metadata": {
      "needs_background": "light"
     },
     "output_type": "display_data"
    }
   ],
   "source": [
    "\n",
    "option_value_list = []\n",
    "option_value_list_2 = []\n",
    "for S0_var in np.arange(20,100,0.01):\n",
    "    S0 = S0_var\n",
    "    option_value_list.append(european_put(20))\n",
    "    option_value_list_2.append(european_put(20, alter = True))\n",
    "    \n",
    "    \n",
    "plt.plot(np.arange(20,100,0.01), option_value_list, label = \"Case 1\")\n",
    "plt.plot(np.arange(20,100,0.01), option_value_list_2, label = \"Case 2\")\n",
    "plt.ylabel(\"Price\")\n",
    "plt.xlabel(\"S0\")\n",
    "plt.legend()\n",
    "plt.title(\"European put vs S0\")\n",
    "plt.show()\n"
   ]
  },
  {
   "cell_type": "code",
   "execution_count": 21,
   "metadata": {},
   "outputs": [
    {
     "data": {
      "image/png": "[encoded data removed]",
      "text/plain": [
       "<Figure size 432x288 with 1 Axes>"
      ]
     },
     "metadata": {
      "needs_background": "light"
     },
     "output_type": "display_data"
    }
   ],
   "source": [
    "\n",
    "\n",
    "option_value_list = []\n",
    "option_value_list_2 = []\n",
    "for S0_var in np.arange(20,100,0.1):\n",
    "    S0 = S0_var\n",
    "    option_value_list.append(american_put(20))\n",
    "    option_value_list_2.append(american_put(20, alter = True))\n",
    "    \n",
    "    \n",
    "plt.plot(np.arange(20,100,0.1), option_value_list, label = \"Case 1\")\n",
    "plt.plot(np.arange(20,100,0.1), option_value_list_2, label = \"Case 2\")\n",
    "plt.ylabel(\"Price\")\n",
    "plt.xlabel(\"S0\")\n",
    "plt.legend()\n",
    "plt.title(\"American Put vs S0\")\n",
    "plt.show()\n"
   ]
  }
 ],
 "metadata": {
  "kernelspec": {
   "display_name": "Python 3.8.1 64-bit",
   "language": "python",
   "name": "python3"
  },
  "language_info": {
   "codemirror_mode": {
    "name": "ipython",
    "version": 3
   },
   "file_extension": ".py",
   "mimetype": "text/x-python",
   "name": "python",
   "nbconvert_exporter": "python",
   "pygments_lexer": "ipython3",
   "version": "3.8.1"
  },
  "orig_nbformat": 4,
  "vscode": {
   "interpreter": {
    "hash": "b081a66ee97bd2b6a16f43955f1d810b7ea816d6eaeb65e157ef9e038445f0c6"
   }
  }
 },
 "nbformat": 4,
 "nbformat_minor": 2
}
